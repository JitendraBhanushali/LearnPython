{
 "cells": [
  {
   "cell_type": "markdown",
   "id": "69be2ebe",
   "metadata": {},
   "source": [
    "## PYMuPDF"
   ]
  },
  {
   "cell_type": "code",
   "execution_count": 3,
   "id": "761609a5",
   "metadata": {},
   "outputs": [
    {
     "name": "stdout",
     "output_type": "stream",
     "text": [
      "Order # S00007 Description Quantity Unit Price Taxes Amount [FURN_6666] Acoustic Bloc Screens 5.00 Units 295.00 1,475.00 € [FURN_8999] Three-Seat Sofa Three Seater Sofa with Lounger in Steel Grey Colour 1.00 Units 173.00 173.00 € [FURN_8888] Office Lamp 1.00 Units 40.00 40.00 € [FURN_7777] Office Chair 1.00 Units 18.00 18.00 € Invoicing and Shipping Address: Gemini Furniture, Soham Palmer 317 Fairchild Dr Fairfield CA 94535 United States   (379)-167-2040 Gemini Furniture 317 Fairchild Dr Fairfield CA 94535 United States Order Date: 02/03/2023 11:55:29 Salesperson: Mitchell Admin Total 1,706.00 € Page: 1 / 1 \n"
     ]
    }
   ],
   "source": [
    "# !pip install PyMuPDF\n",
    "import fitz\n",
    "\n",
    "pdf_path = \"/home/jitendra/Downloads/order.pdf\"\n",
    "\n",
    "pdf = fitz.open(pdf_path)\n",
    "\n",
    "pdf.metadata\n",
    "\n",
    "num_pages = pdf.page_count\n",
    "content = []\n",
    "for i in range(0, num_pages):\n",
    "    page = pdf.load_page(i)\n",
    "    page_text = page.get_text()\n",
    "    rw_txt = page_text.replace(\"\\n\", \" \")\n",
    "    print(rw_txt)\n",
    "    \n",
    "    content.append(rw_txt)\n"
   ]
  },
  {
   "cell_type": "code",
   "execution_count": null,
   "id": "4015e5d1",
   "metadata": {},
   "outputs": [],
   "source": []
  }
 ],
 "metadata": {
  "kernelspec": {
   "display_name": "Python 3 (ipykernel)",
   "language": "python",
   "name": "python3"
  },
  "language_info": {
   "codemirror_mode": {
    "name": "ipython",
    "version": 3
   },
   "file_extension": ".py",
   "mimetype": "text/x-python",
   "name": "python",
   "nbconvert_exporter": "python",
   "pygments_lexer": "ipython3",
   "version": "3.10.6"
  }
 },
 "nbformat": 4,
 "nbformat_minor": 5
}
