{
 "cells": [
  {
   "cell_type": "markdown",
   "id": "36946962",
   "metadata": {},
   "source": [
    "## ocrmypdf"
   ]
  },
  {
   "cell_type": "code",
   "execution_count": 1,
   "id": "200058a4",
   "metadata": {},
   "outputs": [
    {
     "name": "stdout",
     "output_type": "stream",
     "text": [
      "['Invoicing and Shipping Address: Gemini Furniture', 'Gemini Furniture, Soham Palmer 317 Fairchild Dr', '317 Fairchild Dr Fairfield CA 94535', 'Fairfield CA 94535 United States', 'United States', '\\uf095  (379)-167-2040', 'Order # S00007', 'Order Date: Salesperson:', '02/03/2023 11:55:29 Mitchell Admin', 'Description Quantity Unit Price Taxes Amount', '[FURN_6666] Acoustic Bloc Screens 5.00 Units 295.00 1,475.00 €', '[FURN_8999] Three-Seat Sofa 1.00 Units 173.00 173.00 €', 'Three Seater Sofa with Lounger in Steel Grey Colour', '[FURN_8888] Office Lamp 1.00 Units 40.00 40.00 €', '[FURN_7777] Office Chair 1.00 Units 18.00 18.00 €', 'Total 1,706.00 €', 'Page: 1 / 1']\n",
      "total 0\n"
     ]
    }
   ],
   "source": [
    "# !pip install ocrmypdf\n",
    "\n",
    "import ocrmypdf\n",
    "import os\n",
    "import pdfplumber\n",
    "import re\n",
    "\n",
    "pdf_file = \"/home/jitendra/Downloads/order.pdf\"\n",
    "# print(pdf_file)\n",
    "\n",
    "with pdfplumber.open(pdf_file) as pdf:\n",
    "    for page in pdf.pages:\n",
    "#         print(page)\n",
    "        txt = page.extract_text(x_tolerance=2)\n",
    "#         print(txt)\n",
    "        \n",
    "        lines = txt.split('\\n')\n",
    "        print(lines)\n",
    "        \n",
    "        amt = re.compile(r'\\.\\d\\d$')\n",
    "        total = 0\n",
    "        \n",
    "        for line in lines:\n",
    "            if 'Total' in line:\n",
    "                break\n",
    "            if amt.search(line):\n",
    "#                 print(line)\n",
    "                total += float(line.split()[-1].replace(',', ' ').replace('$', ' ')) \n",
    "        print('total', total)"
   ]
  },
  {
   "cell_type": "code",
   "execution_count": null,
   "id": "11d02969",
   "metadata": {},
   "outputs": [],
   "source": []
  }
 ],
 "metadata": {
  "kernelspec": {
   "display_name": "Python 3 (ipykernel)",
   "language": "python",
   "name": "python3"
  },
  "language_info": {
   "codemirror_mode": {
    "name": "ipython",
    "version": 3
   },
   "file_extension": ".py",
   "mimetype": "text/x-python",
   "name": "python",
   "nbconvert_exporter": "python",
   "pygments_lexer": "ipython3",
   "version": "3.10.6"
  }
 },
 "nbformat": 4,
 "nbformat_minor": 5
}
