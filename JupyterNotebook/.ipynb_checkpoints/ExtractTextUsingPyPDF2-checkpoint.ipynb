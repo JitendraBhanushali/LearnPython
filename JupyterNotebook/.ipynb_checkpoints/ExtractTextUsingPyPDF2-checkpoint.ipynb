{
 "cells": [
  {
   "cell_type": "markdown",
   "id": "d8df136f",
   "metadata": {},
   "source": [
    "## PyPDF2"
   ]
  },
  {
   "cell_type": "code",
   "execution_count": 5,
   "id": "97181ac8",
   "metadata": {},
   "outputs": [
    {
     "name": "stdout",
     "output_type": "stream",
     "text": [
      "<PyPDF2.pdf.PdfFileReader object at 0x7f9ef01d4640>\n",
      "page 1\n",
      "{'/Creator': 'Mozilla/5.0 (X11; Linux x86_64) AppleWebKit/537.36 (KHTML, like Gecko) Chrome/108.0.0.0 Safari/537.36', '/Producer': 'Skia/PDF m108', '/CreationDate': \"D:20230116142549+00'00'\", '/ModDate': \"D:20230116142549+00'00'\"}\n",
      "==== []\n",
      "True\n",
      "[]\n",
      "str []\n"
     ]
    }
   ],
   "source": [
    "# Not work proper=====================\n",
    "\n",
    "# importing required modules\n",
    "import PyPDF2\n",
    "\n",
    "\n",
    "# creating a pdf reader object\n",
    "reader = PyPDF2.PdfFileReader('/home/jitendra/Downloads/31.pdf')\n",
    "print(reader)\n",
    "\n",
    "# printing number of pages in pdf file\n",
    "page = reader.getNumPages()\n",
    "print(\"page\", page)\n",
    "\n",
    "# get document information\n",
    "pages = reader.getDocumentInfo()\n",
    "print(pages)\n",
    "\n",
    "str = []\n",
    "print(\"====\",str)\n",
    "\n",
    "for i in range(page):\n",
    "    print(i in range(page))\n",
    "    print(str)\n",
    "    str += reader.getPage(i).extractText()\n",
    "print(\"str\", str)"
   ]
  },
  {
   "cell_type": "code",
   "execution_count": null,
   "id": "60e8cf4e",
   "metadata": {},
   "outputs": [],
   "source": []
  }
 ],
 "metadata": {
  "kernelspec": {
   "display_name": "Python 3 (ipykernel)",
   "language": "python",
   "name": "python3"
  },
  "language_info": {
   "codemirror_mode": {
    "name": "ipython",
    "version": 3
   },
   "file_extension": ".py",
   "mimetype": "text/x-python",
   "name": "python",
   "nbconvert_exporter": "python",
   "pygments_lexer": "ipython3",
   "version": "3.10.6"
  }
 },
 "nbformat": 4,
 "nbformat_minor": 5
}
