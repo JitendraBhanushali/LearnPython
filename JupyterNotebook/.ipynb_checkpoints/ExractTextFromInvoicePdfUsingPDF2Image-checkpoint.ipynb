{
 "cells": [
  {
   "cell_type": "markdown",
   "id": "314ef2ee",
   "metadata": {},
   "source": [
    "## PDF2Image"
   ]
  },
  {
   "cell_type": "code",
   "execution_count": 1,
   "id": "f7e6506d",
   "metadata": {},
   "outputs": [
    {
     "name": "stdout",
     "output_type": "stream",
     "text": [
      "range(0, 1)\n",
      "®@ Your logo\n",
      "\n"
     ]
    }
   ],
   "source": [
    "# Convert pdf to image and extract text from image\n",
    "\n",
    "import pdf2image\n",
    "from PIL import Image\n",
    "import pytesseract\n",
    "\n",
    "image = pdf2image.convert_from_path('/home/jitendra/Downloads/order.pdf')\n",
    "new = []\n",
    "for pagenumber, page in enumerate(image):\n",
    "    detected_text = pytesseract.image_to_string(page)\n",
    "    new.append(detected_text.split(\"\\n\"))\n",
    "\n",
    "text = ''\n",
    "\n",
    "for i in range(len(new)):\n",
    "    print(range(len(new)))\n",
    "    text = text + new[i][0] + '\\n'\n",
    "    \n",
    "print(text)"
   ]
  },
  {
   "cell_type": "code",
   "execution_count": null,
   "id": "3c4ca4bd",
   "metadata": {},
   "outputs": [],
   "source": []
  }
 ],
 "metadata": {
  "kernelspec": {
   "display_name": "Python 3 (ipykernel)",
   "language": "python",
   "name": "python3"
  },
  "language_info": {
   "codemirror_mode": {
    "name": "ipython",
    "version": 3
   },
   "file_extension": ".py",
   "mimetype": "text/x-python",
   "name": "python",
   "nbconvert_exporter": "python",
   "pygments_lexer": "ipython3",
   "version": "3.10.6"
  }
 },
 "nbformat": 4,
 "nbformat_minor": 5
}
