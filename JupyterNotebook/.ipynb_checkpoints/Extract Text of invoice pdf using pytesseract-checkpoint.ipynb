{
 "cells": [
  {
   "cell_type": "markdown",
   "id": "56977f0f",
   "metadata": {},
   "source": [
    "## pytesseract"
   ]
  },
  {
   "cell_type": "code",
   "execution_count": 1,
   "id": "c51e1c0f",
   "metadata": {},
   "outputs": [
    {
     "name": "stdout",
     "output_type": "stream",
     "text": [
      "png_files=== ['page_0.png']\n",
      "png_file---- page_0.png\n",
      "®@ Your logo\n",
      "\n",
      " \n",
      "\n",
      "Invoicing and Shipping Address:\n",
      "Gemini Furniture, Soham Palmer\n",
      "317 Fairchild Dr\n",
      "\n",
      "Fairfield CA 94535\n",
      "\n",
      "United States\n",
      "\n",
      "& (379)-167-2040\n",
      "\n",
      "Order # SOO007\n",
      "\n",
      "Order Date:\n",
      "02/03/2023 11:55:29\n",
      "\n",
      "Description\n",
      "[FURN_6666] Acoustic Bloc Screens\n",
      "\n",
      "[FURN_8999] Three-Seat Sofa\n",
      "Three Seater Sofa with Lounger in Steel Grey Colour\n",
      "\n",
      " \n",
      "\n",
      "[FURN_8888] Office Lamp\n",
      "\n",
      " \n",
      "\n",
      " \n",
      "\n",
      " \n",
      "\n",
      "[FURN_7777] Office Chair\n",
      "\n",
      "Gemini Furniture\n",
      "317 Fairchild Dr\n",
      "Fairfield CA 94535\n",
      "United States\n",
      "\n",
      "Salesperson:\n",
      "\n",
      " \n",
      "\n",
      "Mitchell Admin\n",
      "Quantity Unit Price Taxes Amount\n",
      "5.00 Units 295.00 1,475.00 €\n",
      "1.00 Units 173.00 173.00 €\n",
      "1.00 Units 40.00 40.00 €\n",
      "1.00 Units 18.00 18.00€\n",
      "Total 1,706.00 €\n",
      "\n",
      " \n",
      "\n",
      "Page: 1/1\n",
      "\f",
      "\n"
     ]
    }
   ],
   "source": [
    "import os\n",
    "from PIL import Image\n",
    "import pytesseract\n",
    "from pdf2image import convert_from_path\n",
    "\n",
    "\n",
    "pdf_path = \"/home/jitendra/Downloads/order.pdf\"\n",
    "\n",
    "# Save PDF pages to images\n",
    "images = convert_from_path(pdf_path=pdf_path)\n",
    "for count, img in enumerate(images):\n",
    "    img_name = f\"page_{count}.png\"  \n",
    "    img.save(img_name, \"png\")\n",
    "\n",
    "# Extract Text\n",
    "png_files = [f for f in os.listdir(\".\") if f.endswith(\".png\")]\n",
    "print(\"png_files===\",png_files)\n",
    "\n",
    "for png_file in png_files:\n",
    "    print(\"png_file----\", png_file)\n",
    "    \n",
    "    extracted_text = pytesseract.image_to_string(Image.open(png_file))\n",
    "    print(extracted_text)\n"
   ]
  },
  {
   "cell_type": "code",
   "execution_count": null,
   "id": "63761a77",
   "metadata": {},
   "outputs": [],
   "source": []
  }
 ],
 "metadata": {
  "kernelspec": {
   "display_name": "Python 3 (ipykernel)",
   "language": "python",
   "name": "python3"
  },
  "language_info": {
   "codemirror_mode": {
    "name": "ipython",
    "version": 3
   },
   "file_extension": ".py",
   "mimetype": "text/x-python",
   "name": "python",
   "nbconvert_exporter": "python",
   "pygments_lexer": "ipython3",
   "version": "3.10.6"
  }
 },
 "nbformat": 4,
 "nbformat_minor": 5
}
