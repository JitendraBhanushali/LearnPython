{
 "cells": [
  {
   "cell_type": "markdown",
   "id": "a4576fe2",
   "metadata": {},
   "source": [
    "## PDF Plumber and Reguler Expression"
   ]
  },
  {
   "cell_type": "code",
   "execution_count": null,
   "id": "a858c72c",
   "metadata": {},
   "outputs": [],
   "source": [
    "# Sale Order Line\n",
    "# Extract data from pdf file lines using plumber\n",
    "# ! pip install pandas\n",
    "\n",
    "import pdfplumber,re\n",
    "import pandas as pd\n",
    "\n",
    "def start_end(data_list):\n",
    "    start, end = [], []\n",
    "    for ind, line in enumerate(data_list):\n",
    "        if 'quantity' in line.lower() and 'description' in line.lower():\n",
    "            start.append(ind)\n",
    "#             print(\"start====\", start)\n",
    "       \n",
    "    if 'total' in line.lower():\n",
    "#             print(\"End===\",ind, line)\n",
    "            end.append(ind)\n",
    "#             print(\"end====\", end)\n",
    "    \n",
    "    return start, end\n",
    "\n",
    "def main():\n",
    "    reader = '/home/jitendra/Downloads/order.pdf'\n",
    "#     print(\"reader\", reader)\n",
    "    \n",
    "    lines = []\n",
    "#     print(\"Lines[]\",lines)\n",
    "    \n",
    "    pdf = pdfplumber.open(reader)\n",
    "#     print(\"pdf===\", pdf)\n",
    "    \n",
    "    for page in pdf.pages:\n",
    "        for line in page.extract_text().splitlines():\n",
    "            if \"Order #\" in line:\n",
    "                print(\"Order Id\", line.split(\"#\")[1].strip())\n",
    "            \n",
    "            lines.append(re.sub('\\s+',' ',line.strip()))\n",
    "            print(\"-----\",line.strip())\n",
    "    \n",
    "    start, end = start_end(lines)\n",
    "    \n",
    "    if start == [] or end == []:\n",
    "#         print(\"Keyword Not Found!\")\n",
    "        return\n",
    "    \n",
    "    start, end = min(start), max(end)\n",
    "#     print(\"start---\",start, \"End===\", end)\n",
    "    \n",
    "    result ={\n",
    "        'name': [],\n",
    "        'product_uom_qty': [],\n",
    "        'unit_price': [],\n",
    "        'price_subtotal': [],\n",
    "        \n",
    "    }\n",
    "#     print(result)\n",
    "    \n",
    "    for data in lines[start:end]:\n",
    "#         print(data)\n",
    "        \n",
    "    if 'quantity' not in data.lower() and 'description' not in data.lower():\n",
    "            print(data)\n",
    "main()"
   ]
  }
 ],
 "metadata": {
  "kernelspec": {
   "display_name": "Python 3 (ipykernel)",
   "language": "python",
   "name": "python3"
  },
  "language_info": {
   "codemirror_mode": {
    "name": "ipython",
    "version": 3
   },
   "file_extension": ".py",
   "mimetype": "text/x-python",
   "name": "python",
   "nbconvert_exporter": "python",
   "pygments_lexer": "ipython3",
   "version": "3.10.6"
  }
 },
 "nbformat": 4,
 "nbformat_minor": 5
}
