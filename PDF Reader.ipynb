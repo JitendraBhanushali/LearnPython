{
 "cells": [
  {
   "cell_type": "code",
   "execution_count": 15,
   "id": "65bf6e4a",
   "metadata": {},
   "outputs": [
    {
     "name": "stdout",
     "output_type": "stream",
     "text": [
      "<PyPDF2.pdf.PdfFileReader object at 0x7fc9f7073400>\n",
      "page 1\n",
      "{'/Creator': 'Mozilla/5.0 (X11; Linux x86_64) AppleWebKit/537.36 (KHTML, like Gecko) Chrome/108.0.0.0 Safari/537.36', '/Producer': 'Skia/PDF m108', '/CreationDate': \"D:20230116142549+00'00'\", '/ModDate': \"D:20230116142549+00'00'\"}\n",
      "==== []\n",
      "True\n",
      "[]\n",
      "str []\n"
     ]
    }
   ],
   "source": [
    "# Not work proper=====================\n",
    "# importing required modules\n",
    "import PyPDF2\n",
    "# from PyPDF2 import PdfReader\n",
    "\n",
    "# creating a pdf reader object\n",
    "reader = PyPDF2.PdfFileReader('/home/jitendra/Downloads/31.pdf')\n",
    "print(reader)\n",
    "\n",
    "# printing number of pages in pdf file\n",
    "page = reader.getNumPages()\n",
    "print(\"page\", page)\n",
    "\n",
    "# # get document information\n",
    "pages = reader.getDocumentInfo()\n",
    "print(pages)\n",
    "\n",
    "\n",
    "#\n",
    "# # get document information\n",
    "# text = reader.documentInfo\n",
    "# print(\"text\", text)\n",
    "# print(\"get page detail\", reader.getPage().getContents())\n",
    "\n",
    "str = []\n",
    "print(\"====\",str)\n",
    "\n",
    "for i in range(page):\n",
    "    print(i in range(page))\n",
    "    print(str)\n",
    "    str += reader.getPage(i).extractText()\n",
    "#     print(str += reader.getPage(i).extractText())\n",
    "print(\"str\", str)"
   ]
  },
  {
   "cell_type": "code",
   "execution_count": 22,
   "id": "26768093",
   "metadata": {},
   "outputs": [
    {
     "name": "stdout",
     "output_type": "stream",
     "text": [
      "<Page:1>\n",
      "Invoicing and Shipping Address: Gemini Furniture\n",
      "Gemini Furniture, Soham Palmer 317 Fairchild Dr\n",
      "317 Fairchild Dr Fairfield CA 94535\n",
      "Fairfield CA 94535 United States\n",
      "United States\n",
      " (379)-167-2040\n",
      "Order # S00007\n",
      "Order Date: Salesperson:\n",
      "02/03/2023 11:55:29 Mitchell Admin\n",
      "Description Quantity Unit Price Taxes Amount\n",
      "[FURN_6666] Acoustic Bloc Screens 5.00 Units 295.00 1,475.00 €\n",
      "[FURN_8999] Three-Seat Sofa 1.00 Units 173.00 173.00 €\n",
      "Three Seater Sofa with Lounger in Steel Grey Colour\n",
      "[FURN_8888] Office Lamp 1.00 Units 40.00 40.00 €\n",
      "[FURN_7777] Office Chair 1.00 Units 18.00 18.00 €\n",
      "Total 1,706.00 €\n",
      "Page: 1 / 1\n"
     ]
    }
   ],
   "source": [
    "# Extract data from pdf file using plumber its not work in my pc\n",
    "import requests\n",
    "import pdfplumber\n",
    "\n",
    "reader = '/home/jitendra/Downloads/order.pdf'\n",
    "new = []\n",
    "with pdfplumber.open(reader) as pdf:\n",
    "     for page in pdf.pages:\n",
    "        print(page)\n",
    "        for line in page.extract_text().splitlines():\n",
    "            print(line.strip())\n",
    "\n",
    "#     page = pdf.pages[0]\n",
    "    \n",
    "#     text = page.extract_text()\n",
    "#     new.append(text.split(\"\\n\"))\n",
    "    \n",
    "# #     for i in new[0]:\n",
    "# #         if \"Order #\" in i:\n",
    "# #             print(i.split(\"#\")[1].strip())\n",
    "# #         if \"Order Date\" in i:\n",
    "# #             print(i.split(\":\")[1].strip())\n",
    "# #             break;\n",
    "        \n",
    "# print(text)"
   ]
  },
  {
   "cell_type": "code",
   "execution_count": 25,
   "id": "25303488",
   "metadata": {},
   "outputs": [
    {
     "name": "stdout",
     "output_type": "stream",
     "text": [
      "Salesperson:\n"
     ]
    }
   ],
   "source": [
    "for row in text.split('\\n'):\n",
    "    if row.startswith('Order Date'):\n",
    "       print(row.split()[-1])"
   ]
  },
  {
   "cell_type": "code",
   "execution_count": 25,
   "id": "d7d09699",
   "metadata": {},
   "outputs": [
    {
     "ename": "TypeError",
     "evalue": "'list' object cannot be interpreted as an integer",
     "output_type": "error",
     "traceback": [
      "\u001b[0;31m---------------------------------------------------------------------------\u001b[0m",
      "\u001b[0;31mTypeError\u001b[0m                                 Traceback (most recent call last)",
      "Cell \u001b[0;32mIn[25], line 14\u001b[0m\n\u001b[1;32m     12\u001b[0m     new\u001b[38;5;241m.\u001b[39mappend(detected_text\u001b[38;5;241m.\u001b[39msplit(\u001b[38;5;124m\"\u001b[39m\u001b[38;5;130;01m\\n\u001b[39;00m\u001b[38;5;124m\"\u001b[39m))\n\u001b[1;32m     13\u001b[0m text \u001b[38;5;241m=\u001b[39m \u001b[38;5;124m'\u001b[39m\u001b[38;5;124m'\u001b[39m\n\u001b[0;32m---> 14\u001b[0m \u001b[38;5;28;01mfor\u001b[39;00m i \u001b[38;5;129;01min\u001b[39;00m \u001b[38;5;28;43mrange\u001b[39;49m\u001b[43m(\u001b[49m\u001b[43mnew\u001b[49m\u001b[43m)\u001b[49m:\n\u001b[1;32m     15\u001b[0m     \u001b[38;5;28mprint\u001b[39m(\u001b[38;5;28mrange\u001b[39m(\u001b[38;5;28mlen\u001b[39m(new)))\n\u001b[1;32m     16\u001b[0m     text \u001b[38;5;241m=\u001b[39m text \u001b[38;5;241m+\u001b[39m new[i][\u001b[38;5;241m0\u001b[39m] \u001b[38;5;241m+\u001b[39m \u001b[38;5;124m'\u001b[39m\u001b[38;5;130;01m\\n\u001b[39;00m\u001b[38;5;124m'\u001b[39m\n",
      "\u001b[0;31mTypeError\u001b[0m: 'list' object cannot be interpreted as an integer"
     ]
    }
   ],
   "source": [
    "# Convert pdf to image and extract text from image\n",
    "\n",
    "import pdf2image\n",
    "from PIL import Image\n",
    "import pytesseract\n",
    "\n",
    "image = pdf2image.convert_from_path('/home/jitendra/Downloads/order.pdf')\n",
    "new = []\n",
    "for pagenumber, page in enumerate(image):\n",
    "    detected_text = pytesseract.image_to_string(page)\n",
    "    #print(detected_text.split(\"\\n\"))\n",
    "    new.append(detected_text.split(\"\\n\"))\n",
    "text = ''\n",
    "for i in range(len(new)):\n",
    "    print(range(len(new)))\n",
    "    text = text + new[i][0] + '\\n'\n",
    "    \n",
    "print(text)\n",
    "#     if \"Order #\" in i:\n",
    "#         print(i.split(\"#\")[1].strip())\n",
    "#     if \"Order Date\" in i:\n",
    "#         print(i.split(\":\")[1].strip())\n",
    "#         break;\n",
    "# print(detected_text)"
   ]
  },
  {
   "cell_type": "code",
   "execution_count": 166,
   "id": "4cc3120c",
   "metadata": {},
   "outputs": [
    {
     "name": "stdout",
     "output_type": "stream",
     "text": [
      "Doc <class 'PyPDF2.pdf.PdfFileReader'>\n",
      "pages 1\n",
      "text====== \n"
     ]
    }
   ],
   "source": [
    "# Current page data is not extract error\n",
    "\n",
    "import PyPDF2\n",
    "\n",
    "doc = PyPDF2.PdfFileReader('/home/jitendra/Downloads/order.pdf')\n",
    "print(\"Doc\", type(doc))\n",
    "\n",
    "pages = doc.getNumPages()\n",
    "print(\"pages\", pages)\n",
    "\n",
    "search = 'Order'\n",
    "\n",
    "list_pages = []\n",
    "\n",
    "for i in range(pages):\n",
    "    current_page = doc.getPage(i)\n",
    "    text = current_page.extractText()\n",
    "    print(\"text======\", text)"
   ]
  },
  {
   "cell_type": "code",
   "execution_count": null,
   "id": "6574cdfc",
   "metadata": {},
   "outputs": [],
   "source": []
  },
  {
   "cell_type": "code",
   "execution_count": null,
   "id": "3745ca39",
   "metadata": {},
   "outputs": [],
   "source": []
  },
  {
   "cell_type": "code",
   "execution_count": 13,
   "id": "69b3305c",
   "metadata": {},
   "outputs": [
    {
     "name": "stdout",
     "output_type": "stream",
     "text": [
      "Order Id S00007\n",
      "[FURN_6666] Acoustic Bloc Screens 5.00 Units 295.00 1,475.00 €\n",
      "[FURN_8999] Three-Seat Sofa 1.00 Units 173.00 173.00 €\n",
      "Three Seater Sofa with Lounger in Steel Grey Colour\n",
      "[FURN_8888] Office Lamp 1.00 Units 40.00 40.00 €\n",
      "[FURN_7777] Office Chair 1.00 Units 18.00 18.00 €\n"
     ]
    }
   ],
   "source": [
    "# Sale Order Line\n",
    "# Extract data from pdf file lines using plumber its not work in my pc\n",
    "# ! pip install pandas\n",
    "\n",
    "import pdfplumber,re\n",
    "import pandas as pd\n",
    "\n",
    "def start_end(data_list):\n",
    "    start, end = [], []\n",
    "    for ind, line in enumerate(data_list):\n",
    "        if 'quantity' in line.lower() and 'description' in line.lower():\n",
    "            start.append(ind)\n",
    "#             print(\"start====\", start)\n",
    "        if 'total' in line.lower():\n",
    "#             print(\"End===\",ind, line)\n",
    "            end.append(ind)\n",
    "#             print(\"end====\", end)\n",
    "    \n",
    "    return start, end\n",
    "\n",
    "\n",
    "def main():\n",
    "    reader = '/home/jitendra/Downloads/order.pdf'\n",
    "#     print(\"reader\", reader)\n",
    "    \n",
    "    lines = []\n",
    "#     print(\"Lines[]\",lines)\n",
    "    \n",
    "    pdf = pdfplumber.open(reader)\n",
    "#     print(\"pdf===\", pdf)\n",
    "    for page in pdf.pages:\n",
    "        for line in page.extract_text().splitlines():\n",
    "            if \"Order #\" in line:\n",
    "                print(\"Order Id\", line.split(\"#\")[1].strip())\n",
    "            \n",
    "            lines.append(re.sub('\\s+',' ',line.strip()))\n",
    "#             print(\"-----\",line.strip())\n",
    "    \n",
    "    start, end = start_end(lines)\n",
    "    \n",
    "    if start == [] or end == []:\n",
    "#         print(\"Keyword Not Found!\")\n",
    "        return\n",
    "    \n",
    "    start, end = min(start), max(end)\n",
    "#     print(\"start---\",start, \"End===\", end)\n",
    "    \n",
    "    result ={\n",
    "        'name': [],\n",
    "        'product_uom_qty': [],\n",
    "        'unit_price': [],\n",
    "        'price_subtotal': [],\n",
    "        \n",
    "    }\n",
    "#     print(result)\n",
    "    \n",
    "    for data in lines[start:end]:\n",
    "#         print(data)\n",
    "        if 'quantity' not in data.lower() and 'description' not in data.lower():\n",
    "            print(data)\n",
    "#             result['name'].append(' '.join(data.split()[0:-5]))\n",
    "#             result['product_uom_qty'].append(' '.join(data.split()[3:-3]))\n",
    "#             result['unit_price'].append(data.split()[6])\n",
    "#             result['price_subtotal'].append(''.join(data.split()[-2:-1]))\n",
    "#             print(\"name = \",' '.join(data.split()[0:-5]))\n",
    "#             print(\"Total = \",' '.join(data.split()[-2:-1]))\n",
    "#             print(\"Unit Price = \",data.split()[6])\n",
    "#             print(\"product_uom_qty\",' '.join(data.split()[3:-3]))\n",
    "#     print(result)\n",
    "#     df = pd.DataFrame(result)\n",
    "#     print(df)\n",
    "main()"
   ]
  },
  {
   "cell_type": "code",
   "execution_count": 38,
   "id": "4bf5f04f",
   "metadata": {},
   "outputs": [
    {
     "name": "stdout",
     "output_type": "stream",
     "text": [
      "Empty DataFrame\n",
      "Columns: [Description, Quantity, Unit Price, Taxes, Amount]\n",
      "Index: []\n"
     ]
    }
   ],
   "source": [
    "# not working ============\n",
    "\n",
    "# !pip install tabula-py\n",
    "# !pip install tabulate\n",
    "\n",
    "from tabula import read_pdf\n",
    "from tabulate import tabulate\n",
    "\n",
    "df = read_pdf(\"/home/jitendra/Downloads/order.pdf\", pages=\"all\")\n",
    "\n",
    "\n",
    "for i in df:\n",
    "    print(i)"
   ]
  },
  {
   "cell_type": "code",
   "execution_count": 3,
   "id": "db48b08a",
   "metadata": {},
   "outputs": [
    {
     "name": "stdout",
     "output_type": "stream",
     "text": [
      "\n",
      "\n"
     ]
    }
   ],
   "source": [
    "# blank text ===========\n",
    "\n",
    "from PyPDF2 import PdfFileReader\n",
    "\n",
    "reader = PdfFileReader(\"/home/jitendra/Downloads/order.pdf\")\n",
    "text = \"\"\n",
    "for page in reader.pages:\n",
    "    text += page.extractText() + \"\\n\"\n",
    "\n",
    "print(text)"
   ]
  },
  {
   "cell_type": "code",
   "execution_count": 26,
   "id": "3f5f4e0d",
   "metadata": {},
   "outputs": [
    {
     "name": "stdout",
     "output_type": "stream",
     "text": [
      "pdf_reader <PyPDF2.pdf.PdfFileReader object at 0x7fd3714ebbe0>\n",
      "first_page {'/Type': '/Page', '/Parent': IndirectObject(2, 0), '/Contents': IndirectObject(18, 0), '/Resources': IndirectObject(20, 0), '/Annots': IndirectObject(21, 0), '/MediaBox': [0, 0, 612, 792]}\n",
      "text \n",
      "text \n",
      "invoice_number_pattern Order # ([A-Z])\n",
      "match None\n",
      "else part invoice_number Unknown\n",
      "Invoice number: Unknown\n",
      "Total amount: Unknown\n"
     ]
    }
   ],
   "source": [
    "import re\n",
    "import PyPDF2\n",
    "\n",
    "# Open the PDF file in binary mode\n",
    "with open('/home/jitendra/Downloads/order.pdf', 'rb') as pdf_file:\n",
    "    # Create a PDF reader object\n",
    "    pdf_reader = PyPDF2.PdfFileReader(pdf_file)\n",
    "    print(\"pdf_reader\", pdf_reader)\n",
    "\n",
    "    # Extract text from the first page in the PDF file\n",
    "    first_page = pdf_reader.getPage(0)\n",
    "    print(\"first_page\", first_page)\n",
    "    \n",
    "    text = first_page.extractText()\n",
    "    print(\"text\", text)\n",
    "\n",
    "    # Preprocess the extracted text to remove unnecessary characters and spaces\n",
    "    text = text.replace('\\n', ' ').replace('\\r', ' ').replace('\\t', ' ')\n",
    "    print(\"text\", text)\n",
    "\n",
    "    # Extract the invoice number using regular expressions\n",
    "    invoice_number_pattern = r'Order # ([A-Z])'\n",
    "    print(\"invoice_number_pattern\", invoice_number_pattern)\n",
    "    \n",
    "    match = re.search(invoice_number_pattern, text)\n",
    "    print(\"match\", match)\n",
    "    if match:\n",
    "        invoice_number = match.group(1)\n",
    "        print(\"if partinvoice_number\", invoice_number)\n",
    "    else:\n",
    "        invoice_number = 'Unknown'\n",
    "        print(\"else part invoice_number\", invoice_number)\n",
    "        \n",
    "\n",
    "    # Extract the total amount using regular expressions\n",
    "    total_amount_pattern = r'Total ()'\n",
    "    match = re.search(total_amount_pattern, text)\n",
    "    if match:\n",
    "        total_amount = match.group(1)\n",
    "    else:\n",
    "        total_amount = 'Unknown'\n",
    "\n",
    "    # Print the extracted information\n",
    "    print(f'Invoice number: {invoice_number}')\n",
    "    print(f'Total amount: {total_amount}')"
   ]
  },
  {
   "cell_type": "code",
   "execution_count": 43,
   "id": "89ef7fac",
   "metadata": {},
   "outputs": [
    {
     "name": "stdout",
     "output_type": "stream",
     "text": [
      "png_files=== ['page_0.png']\n",
      "png_file---- page_0.png\n",
      "®@ Your logo\n",
      "\n",
      " \n",
      "\n",
      "Invoicing and Shipping Address:\n",
      "Gemini Furniture, Soham Palmer\n",
      "317 Fairchild Dr\n",
      "\n",
      "Fairfield CA 94535\n",
      "\n",
      "United States\n",
      "\n",
      "& (379)-167-2040\n",
      "\n",
      "Order # SOO007\n",
      "\n",
      "Order Date:\n",
      "02/03/2023 11:55:29\n",
      "\n",
      "Description\n",
      "[FURN_6666] Acoustic Bloc Screens\n",
      "\n",
      "[FURN_8999] Three-Seat Sofa\n",
      "Three Seater Sofa with Lounger in Steel Grey Colour\n",
      "\n",
      " \n",
      "\n",
      "[FURN_8888] Office Lamp\n",
      "\n",
      " \n",
      "\n",
      " \n",
      "\n",
      " \n",
      "\n",
      "[FURN_7777] Office Chair\n",
      "\n",
      "Gemini Furniture\n",
      "317 Fairchild Dr\n",
      "Fairfield CA 94535\n",
      "United States\n",
      "\n",
      "Salesperson:\n",
      "\n",
      " \n",
      "\n",
      "Mitchell Admin\n",
      "Quantity Unit Price Taxes Amount\n",
      "5.00 Units 295.00 1,475.00 €\n",
      "1.00 Units 173.00 173.00 €\n",
      "1.00 Units 40.00 40.00 €\n",
      "1.00 Units 18.00 18.00€\n",
      "Total 1,706.00 €\n",
      "\n",
      " \n",
      "\n",
      "Page: 1/1\n",
      "\f",
      "\n"
     ]
    }
   ],
   "source": [
    "# conver pdf file to png file and extract the text\n",
    "import os\n",
    "from PIL import Image\n",
    "import pytesseract\n",
    "from pdf2image import convert_from_path\n",
    "\n",
    "\n",
    "pdf_path = \"/home/jitendra/Downloads/order.pdf\"\n",
    "\n",
    "# Save PDF pages to images\n",
    "images = convert_from_path(pdf_path=pdf_path)\n",
    "for count, img in enumerate(images):\n",
    "    img_name = f\"page_{count}.png\"  \n",
    "    img.save(img_name, \"png\")\n",
    "\n",
    "# Extract Text\n",
    "png_files = [f for f in os.listdir(\".\") if f.endswith(\".png\")]\n",
    "print(\"png_files===\",png_files)\n",
    "\n",
    "for png_file in png_files:\n",
    "    print(\"png_file----\", png_file)\n",
    "    \n",
    "    extracted_text = pytesseract.image_to_string(Image.open(png_file))\n",
    "    print(extracted_text)\n"
   ]
  },
  {
   "cell_type": "code",
   "execution_count": 44,
   "id": "9eef4a7a",
   "metadata": {},
   "outputs": [
    {
     "name": "stdout",
     "output_type": "stream",
     "text": [
      "Page No:  0\n",
      "\n",
      "\n",
      "\n"
     ]
    }
   ],
   "source": [
    "# Importing required modules\n",
    "import PyPDF2\n",
    "# Creating a pdf file object\n",
    "pdfFileObj = open('/home/jitendra/Downloads/order.pdf','rb')\n",
    "# Creating a pdf reader object\n",
    "pdfReader = PyPDF2.PdfFileReader(pdfFileObj)\n",
    "# Getting number of pages in pdf file\n",
    "pages = pdfReader.numPages\n",
    "# Loop for reading all the Pages\n",
    "for i in range(pages):\n",
    "        # Creating a page object\n",
    "        pageObj = pdfReader.getPage(i)\n",
    "        # Printing Page Number\n",
    "        print(\"Page No: \",i)\n",
    "        # Extracting text from page\n",
    "        # And splitting it into chunks of lines\n",
    "        text = pageObj.extractText().split(\"  \")\n",
    "        # Finally the lines are stored into list\n",
    "        # For iterating over list a loop is used\n",
    "        for i in range(len(text)):\n",
    "                # Printing the line\n",
    "                # Lines are seprated using \"\\n\"\n",
    "                print(text[i],end=\"\\n\\n\")\n",
    "        # For Seprating the Pages\n",
    "        print()\n",
    "# closing the pdf file object\n",
    "pdfFileObj.close()"
   ]
  },
  {
   "cell_type": "code",
   "execution_count": null,
   "id": "f72bc9bd",
   "metadata": {},
   "outputs": [],
   "source": []
  },
  {
   "cell_type": "code",
   "execution_count": null,
   "id": "305364d9",
   "metadata": {},
   "outputs": [],
   "source": []
  },
  {
   "cell_type": "code",
   "execution_count": null,
   "id": "7c9397d6",
   "metadata": {},
   "outputs": [],
   "source": []
  },
  {
   "cell_type": "code",
   "execution_count": null,
   "id": "05571302",
   "metadata": {},
   "outputs": [],
   "source": []
  },
  {
   "cell_type": "code",
   "execution_count": null,
   "id": "c16d9c2e",
   "metadata": {},
   "outputs": [],
   "source": []
  },
  {
   "cell_type": "code",
   "execution_count": null,
   "id": "a8c165e6",
   "metadata": {},
   "outputs": [],
   "source": []
  },
  {
   "cell_type": "code",
   "execution_count": null,
   "id": "eb506c80",
   "metadata": {},
   "outputs": [],
   "source": []
  },
  {
   "cell_type": "code",
   "execution_count": null,
   "id": "b7c2c212",
   "metadata": {},
   "outputs": [],
   "source": [
    "\n",
    "\n",
    "\n",
    "\n",
    "\n",
    "\n",
    "\n",
    "\n",
    "\n",
    "\n"
   ]
  }
 ],
 "metadata": {
  "kernelspec": {
   "display_name": "Python 3 (ipykernel)",
   "language": "python",
   "name": "python3"
  },
  "language_info": {
   "codemirror_mode": {
    "name": "ipython",
    "version": 3
   },
   "file_extension": ".py",
   "mimetype": "text/x-python",
   "name": "python",
   "nbconvert_exporter": "python",
   "pygments_lexer": "ipython3",
   "version": "3.10.6"
  }
 },
 "nbformat": 4,
 "nbformat_minor": 5
}
