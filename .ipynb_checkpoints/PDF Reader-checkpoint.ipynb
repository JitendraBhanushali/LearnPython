{
 "cells": [
  {
   "cell_type": "code",
   "execution_count": null,
   "id": "65bf6e4a",
   "metadata": {},
   "outputs": [],
   "source": [
    "# importing required modules\n",
    "import PyPDF2\n",
    "# from PyPDF2 import PdfReader\n",
    "\n",
    "# creating a pdf reader object\n",
    "reader = PyPDF2.PdfFileReader('/home/jitendra/Downloads/31.pdf')\n",
    "print(reader)\n",
    "\n",
    "# printing number of pages in pdf file\n",
    "page = reader.getNumPages()\n",
    "print(\"page\", page)\n",
    "\n",
    "# # get document information\n",
    "pages = reader.getDocumentInfo()\n",
    "print(pages)\n",
    "\n",
    "\n",
    "#\n",
    "# # get document information\n",
    "# text = reader.documentInfo\n",
    "# print(\"text\", text)\n",
    "# print(\"get page detail\", reader.getPage().getContents())\n",
    "\n",
    "str = []\n",
    "print(\"====\",str)\n",
    "\n",
    "for i in range(page):\n",
    "    print(i in range(page))\n",
    "    print(str)\n",
    "    str += reader.getPage(i).extractText()\n",
    "#     print(str += reader.getPage(i).extractText())\n",
    "print(\"str\", str)"
   ]
  },
  {
   "cell_type": "code",
   "execution_count": 11,
   "id": "26768093",
   "metadata": {},
   "outputs": [
    {
     "name": "stdout",
     "output_type": "stream",
     "text": [
      "S00007\n",
      "Salesperson\n",
      "Invoicing and Shipping Address: Gemini Furniture\n",
      "Gemini Furniture, Soham Palmer 317 Fairchild Dr\n",
      "317 Fairchild Dr Fairfield CA 94535\n",
      "Fairfield CA 94535 United States\n",
      "United States\n",
      " (379)-167-2040\n",
      "Order # S00007\n",
      "Order Date: Salesperson:\n",
      "02/03/2023 11:55:29 Mitchell Admin\n",
      "Description Quantity Unit Price Taxes Amount\n",
      "[FURN_6666] Acoustic Bloc Screens 5.00 Units 295.00 1,475.00 €\n",
      "[FURN_8999] Three-Seat Sofa 1.00 Units 173.00 173.00 €\n",
      "Three Seater Sofa with Lounger in Steel Grey Colour\n",
      "[FURN_8888] Office Lamp 1.00 Units 40.00 40.00 €\n",
      "[FURN_7777] Office Chair 1.00 Units 18.00 18.00 €\n",
      "Total 1,706.00 €\n",
      "Page: 1 / 1\n"
     ]
    }
   ],
   "source": [
    "# Extract data from pdf file using plumber its not work in my pc\n",
    "import requests\n",
    "import pdfplumber\n",
    "\n",
    "reader = '/home/jitendra/Downloads/order.pdf'\n",
    "new = []\n",
    "with pdfplumber.open(reader) as pdf:\n",
    "    page = pdf.pages[0]\n",
    "    text = page.extract_text()\n",
    "    new.append(text.split(\"\\n\"))\n",
    "    \n",
    "    for i in new[0]:\n",
    "        if \"Order #\" in i:\n",
    "            print(i.split(\"#\")[1].strip())\n",
    "        if \"Order Date\" in i:\n",
    "            print(i.split(\":\")[1].strip())\n",
    "            break;\n",
    "        \n",
    "print(text)"
   ]
  },
  {
   "cell_type": "code",
   "execution_count": null,
   "id": "25303488",
   "metadata": {},
   "outputs": [],
   "source": [
    "for row in text.split('\\n'):\n",
    "    if row.startswith('Order Date'):\n",
    "       print(row.split()[-1])"
   ]
  },
  {
   "cell_type": "code",
   "execution_count": 168,
   "id": "d7d09699",
   "metadata": {},
   "outputs": [
    {
     "name": "stdout",
     "output_type": "stream",
     "text": [
      "range(0, 1)\n",
      "®@ Your logo\n",
      "\n"
     ]
    }
   ],
   "source": [
    "# Convert pdf to image and extract text from image\n",
    "import pdf2image\n",
    "from PIL import Image\n",
    "import pytesseract\n",
    "\n",
    "image = pdf2image.convert_from_path('/home/jitendra/Downloads/order.pdf')\n",
    "new = []\n",
    "for pagenumber, page in enumerate(image):\n",
    "    detected_text = pytesseract.image_to_string(page)\n",
    "    #print(detected_text.split(\"\\n\"))\n",
    "    new.append(detected_text.split(\"\\n\"))\n",
    "text = ''\n",
    "for i in range(len(new)):\n",
    "    print(range(len(new)))\n",
    "    text = text + new[i][0] + '\\n'\n",
    "    \n",
    "print(text)\n",
    "#     if \"Order #\" in i:\n",
    "#         print(i.split(\"#\")[1].strip())\n",
    "#     if \"Order Date\" in i:\n",
    "#         print(i.split(\":\")[1].strip())\n",
    "#         break;\n",
    "# print(detected_text)"
   ]
  },
  {
   "cell_type": "code",
   "execution_count": 166,
   "id": "4cc3120c",
   "metadata": {},
   "outputs": [
    {
     "name": "stdout",
     "output_type": "stream",
     "text": [
      "Doc <class 'PyPDF2.pdf.PdfFileReader'>\n",
      "pages 1\n",
      "text====== \n"
     ]
    }
   ],
   "source": [
    "# Current page data is not extract error\n",
    "\n",
    "import PyPDF2\n",
    "\n",
    "doc = PyPDF2.PdfFileReader('/home/jitendra/Downloads/order.pdf')\n",
    "print(\"Doc\", type(doc))\n",
    "\n",
    "pages = doc.getNumPages()\n",
    "print(\"pages\", pages)\n",
    "\n",
    "search = 'Order'\n",
    "\n",
    "list_pages = []\n",
    "\n",
    "for i in range(pages):\n",
    "    current_page = doc.getPage(i)\n",
    "    text = current_page.extractText()\n",
    "    print(\"text======\", text)"
   ]
  },
  {
   "cell_type": "code",
   "execution_count": 167,
   "id": "6574cdfc",
   "metadata": {},
   "outputs": [
    {
     "ename": "ModuleNotFoundError",
     "evalue": "No module named 'easyocr'",
     "output_type": "error",
     "traceback": [
      "\u001b[0;31m---------------------------------------------------------------------------\u001b[0m",
      "\u001b[0;31mModuleNotFoundError\u001b[0m                       Traceback (most recent call last)",
      "Cell \u001b[0;32mIn[167], line 4\u001b[0m\n\u001b[1;32m      2\u001b[0m \u001b[38;5;28;01mimport\u001b[39;00m \u001b[38;5;21;01mnumpy\u001b[39;00m \u001b[38;5;28;01mas\u001b[39;00m \u001b[38;5;21;01mnp\u001b[39;00m\n\u001b[1;32m      3\u001b[0m \u001b[38;5;28;01mimport\u001b[39;00m \u001b[38;5;21;01mPIL\u001b[39;00m\n\u001b[0;32m----> 4\u001b[0m \u001b[38;5;28;01mimport\u001b[39;00m \u001b[38;5;21;01measyocr\u001b[39;00m\n",
      "\u001b[0;31mModuleNotFoundError\u001b[0m: No module named 'easyocr'"
     ]
    }
   ],
   "source": [
    "from pdf2image import convert_from_path\n",
    "import numpy as np\n",
    "import PIL\n",
    "import easyocr"
   ]
  },
  {
   "cell_type": "code",
   "execution_count": null,
   "id": "3745ca39",
   "metadata": {},
   "outputs": [],
   "source": []
  },
  {
   "cell_type": "code",
   "execution_count": 216,
   "id": "69b3305c",
   "metadata": {},
   "outputs": [
    {
     "name": "stdout",
     "output_type": "stream",
     "text": [
      "Order Id S00007\n",
      "Total =  1,475.00\n",
      "Total =  173.00\n",
      "Total =  Grey\n",
      "Total =  40.00\n",
      "Total =  18.00\n"
     ]
    }
   ],
   "source": [
    "# Sale Order Line\n",
    "# Extract data from pdf file lines using plumber its not work in my pc\n",
    "# ! pip install pandas\n",
    "\n",
    "import pdfplumber,re\n",
    "import pandas as pd\n",
    "\n",
    "def start_end(data_list):\n",
    "    start, end = [], []\n",
    "    for ind, line in enumerate(data_list):\n",
    "        if 'quantity' in line.lower() and 'description' in line.lower():\n",
    "            start.append(ind)\n",
    "#             print(\"start====\", start)\n",
    "        if 'total' in line.lower():\n",
    "            print(\"End===\",ind, line)\n",
    "            end.append(ind)\n",
    "#             print(\"end====\", end)\n",
    "    \n",
    "    return start, end\n",
    "\n",
    "\n",
    "def main():\n",
    "    reader = '/home/jitendra/Downloads/order.pdf'\n",
    "#     print(\"reader\", reader)\n",
    "    \n",
    "    lines = []\n",
    "#     print(\"Lines[]\",lines)\n",
    "    \n",
    "    pdf = pdfplumber.open(reader)\n",
    "#     print(\"pdf===\", pdf)\n",
    "    for page in pdf.pages:\n",
    "        for line in page.extract_text().splitlines():\n",
    "            if \"Order #\" in line:\n",
    "                print(\"Order Id\", line.split(\"#\")[1].strip())\n",
    "            \n",
    "            lines.append(re.sub('\\s+',' ',line.strip()))\n",
    "#             print(\"-----\",line.strip())\n",
    "    \n",
    "    start, end = start_end(lines)\n",
    "    \n",
    "    if start == [] or end == []:\n",
    "#         print(\"Keyword Not Found!\")\n",
    "        return\n",
    "    \n",
    "    start, end = min(start), max(end)\n",
    "#     print(\"start---\",start, \"End===\", end)\n",
    "    \n",
    "    result ={\n",
    "        'name': [],\n",
    "        'product_uom_qty': [],\n",
    "        'unit_price': [],\n",
    "        'price_subtotal': [],\n",
    "        \n",
    "    }\n",
    "#     print(result)\n",
    "    \n",
    "    for data in lines[start:end]:\n",
    "        if 'quantity' not in data.lower() and 'description' not in data.lower():\n",
    "            result['name'].append(' '.join(data.split()[0:-5]))\n",
    "            result['product_uom_qty'].append(' '.join(data.split()[3:-3]))\n",
    "            result['unit_price'].append(data.split()[6])\n",
    "            result['price_subtotal'].append(''.join(data.split()[-2:-1]))\n",
    "#             print(\"name = \",' '.join(data.split()[0:-5]))\n",
    "            print(\"Total = \",' '.join(data.split()[-2:-1]))\n",
    "#             print(\"Unit Price = \",data.split()[6])\n",
    "#             print(\"product_uom_qty\",' '.join(data.split()[3:-3]))\n",
    "#     print(result)\n",
    "#     df = pd.DataFrame(result)\n",
    "#     print(df)\n",
    "main()"
   ]
  },
  {
   "cell_type": "code",
   "execution_count": null,
   "id": "4bf5f04f",
   "metadata": {},
   "outputs": [],
   "source": []
  },
  {
   "cell_type": "code",
   "execution_count": null,
   "id": "db48b08a",
   "metadata": {},
   "outputs": [],
   "source": []
  },
  {
   "cell_type": "code",
   "execution_count": null,
   "id": "3f5f4e0d",
   "metadata": {},
   "outputs": [],
   "source": []
  },
  {
   "cell_type": "code",
   "execution_count": null,
   "id": "89ef7fac",
   "metadata": {},
   "outputs": [],
   "source": []
  },
  {
   "cell_type": "code",
   "execution_count": null,
   "id": "9eef4a7a",
   "metadata": {},
   "outputs": [],
   "source": []
  },
  {
   "cell_type": "code",
   "execution_count": null,
   "id": "f72bc9bd",
   "metadata": {},
   "outputs": [],
   "source": []
  },
  {
   "cell_type": "code",
   "execution_count": null,
   "id": "305364d9",
   "metadata": {},
   "outputs": [],
   "source": []
  },
  {
   "cell_type": "code",
   "execution_count": null,
   "id": "7c9397d6",
   "metadata": {},
   "outputs": [],
   "source": []
  },
  {
   "cell_type": "code",
   "execution_count": null,
   "id": "05571302",
   "metadata": {},
   "outputs": [],
   "source": []
  },
  {
   "cell_type": "code",
   "execution_count": null,
   "id": "c16d9c2e",
   "metadata": {},
   "outputs": [],
   "source": []
  },
  {
   "cell_type": "code",
   "execution_count": null,
   "id": "a8c165e6",
   "metadata": {},
   "outputs": [],
   "source": []
  },
  {
   "cell_type": "code",
   "execution_count": null,
   "id": "eb506c80",
   "metadata": {},
   "outputs": [],
   "source": []
  },
  {
   "cell_type": "code",
   "execution_count": null,
   "id": "b7c2c212",
   "metadata": {},
   "outputs": [],
   "source": [
    "\n",
    "\n",
    "\n",
    "\n",
    "\n",
    "\n",
    "\n",
    "\n",
    "\n",
    "\n"
   ]
  }
 ],
 "metadata": {
  "kernelspec": {
   "display_name": "Python 3 (ipykernel)",
   "language": "python",
   "name": "python3"
  },
  "language_info": {
   "codemirror_mode": {
    "name": "ipython",
    "version": 3
   },
   "file_extension": ".py",
   "mimetype": "text/x-python",
   "name": "python",
   "nbconvert_exporter": "python",
   "pygments_lexer": "ipython3",
   "version": "3.10.6"
  }
 },
 "nbformat": 4,
 "nbformat_minor": 5
}
